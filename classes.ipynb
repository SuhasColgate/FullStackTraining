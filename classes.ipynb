{
 "cells": [
  {
   "cell_type": "code",
   "execution_count": 44,
   "metadata": {},
   "outputs": [
    {
     "name": "stdout",
     "output_type": "stream",
     "text": [
      "Suhas\n",
      "Suhas was born in 1990\n",
      "Suhas1\n",
      "Suhas1 was born in 1989\n"
     ]
    }
   ],
   "source": [
    "import datetime\n",
    "now = datetime.datetime.now()\n",
    "\n",
    "class Person:\n",
    "    def __init__(self,name,age):\n",
    "        self._name=name\n",
    "        self.age=age\n",
    "        \n",
    "    def birthYear(self):\n",
    "        return now.year - self.age\n",
    "        \n",
    "p = Person(\"Suhas\",30)\n",
    "print(p._name)\n",
    "print(p._name, \"was born in\", p.birthYear() )\n",
    "\n",
    "class Student(Person):\n",
    "    def __init__(self,name,age):\n",
    "        self.name=name\n",
    "        self.age=age\n",
    "        \n",
    "    def birthYear(self):\n",
    "        return now.year - self.age\n",
    "\n",
    "    \n",
    "s = Student(\"Suhas1\",31)\n",
    "print(s.name)\n",
    "print(s.name, \"was born in\", s.birthYear() )"
   ]
  },
  {
   "cell_type": "markdown",
   "metadata": {},
   "source": [
    "<b>Function Arguments: \\*args and **kwargs</b>"
   ]
  },
  {
   "cell_type": "code",
   "execution_count": 64,
   "metadata": {},
   "outputs": [
    {
     "name": "stdout",
     "output_type": "stream",
     "text": [
      "\n",
      "Data type of argument: <class 'tuple'>\n",
      "Firstname is Sita\n",
      "Lastname is Sharma\n",
      "Age is 22\n",
      "Phone is 1234567890\n",
      "Suhas 30\n",
      "dt==> (5, 5, 'rer', 6, 3)\n",
      "\n",
      "Data type of argument: <class 'tuple'>\n",
      "Firstname is John\n",
      "Lastname is Wood\n",
      "Email is johnwood@nomail.com\n",
      "Country is Wakanda\n",
      "Age is 25\n",
      "Phone is 9876543210\n",
      "Deepti 40\n",
      "dt==> ()\n"
     ]
    }
   ],
   "source": [
    "def intro(name,age,*dt,**data):\n",
    "    print(\"\\nData type of argument:\",type(dt))\n",
    "    for key, value in data.items():\n",
    "        print(\"{} is {}\".format(key,value))\n",
    "    \n",
    "    print(name,age)\n",
    "    print('dt==>',dt)\n",
    "        \n",
    "      \n",
    "intro('Suhas',30,5,5,'rer',6,3,Firstname=\"Sita\", Lastname=\"Sharma\", Age=22, Phone=1234567890)\n",
    "intro('Deepti',40,Firstname=\"John\", Lastname=\"Wood\", Email=\"johnwood@nomail.com\", Country=\"Wakanda\", Age=25, Phone=9876543210)"
   ]
  },
  {
   "cell_type": "markdown",
   "metadata": {},
   "source": [
    "<hr>"
   ]
  },
  {
   "cell_type": "code",
   "execution_count": 67,
   "metadata": {},
   "outputs": [],
   "source": [
    "def testArgs(name,age,*dt,**data):\n",
    "    print(\"\\nData type of argument:\",type(dt))\n",
    "    for key, value in data.items():\n",
    "        print(\"{} is {}\".format(key,value))\n",
    "    print(name,age)\n",
    "    print('dt==>',dt)    \n",
    "     \n",
    "        \n",
    "        "
   ]
  },
  {
   "cell_type": "code",
   "execution_count": null,
   "metadata": {},
   "outputs": [],
   "source": []
  }
 ],
 "metadata": {
  "kernelspec": {
   "display_name": "Python 3",
   "language": "python",
   "name": "python3"
  },
  "language_info": {
   "codemirror_mode": {
    "name": "ipython",
    "version": 3
   },
   "file_extension": ".py",
   "mimetype": "text/x-python",
   "name": "python",
   "nbconvert_exporter": "python",
   "pygments_lexer": "ipython3",
   "version": "3.7.4"
  }
 },
 "nbformat": 4,
 "nbformat_minor": 4
}
